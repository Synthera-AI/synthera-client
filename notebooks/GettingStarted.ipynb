{
 "cells": [
  {
   "cell_type": "code",
   "execution_count": 1,
   "id": "510ba565-2ee5-43ba-8535-20a8b887886d",
   "metadata": {},
   "outputs": [],
   "source": [
    "import pandas as pd\n",
    "from fastparquet import write, ParquetFile\n",
    "import numpy as np\n",
    "import os, sys\n",
    "import io\n",
    "import requests\n",
    "if os.path.split(os.getcwd())[-1] != 'synthera-client':\n",
    "    os.chdir(os.path.join(os.getcwd(), '..'))\n",
    "\n",
    "sys.path.append(os.path.join(os.getcwd(), 'api'))"
   ]
  },
  {
   "cell_type": "code",
   "execution_count": 2,
   "id": "2c90aad0-8b26-486a-a81a-edd64be23b77",
   "metadata": {},
   "outputs": [],
   "source": [
    "import synthera"
   ]
  },
  {
   "cell_type": "code",
   "execution_count": 3,
   "id": "295e2daf-3918-4a25-8c44-10d2a61732ae",
   "metadata": {},
   "outputs": [],
   "source": [
    "request = {\n",
    "    'request': {\n",
    "        'no_of_days': 100,\n",
    "        'no_of_samples': 16,\n",
    "        'reference_date': '2013-12-30',\n",
    "        'yield_curve_names': [\n",
    "            'USD_Z0',\n",
    "            'EUR_Z0',\n",
    "        ],\n",
    "    },\n",
    "}"
   ]
  },
  {
   "cell_type": "code",
   "execution_count": 4,
   "id": "44535ef5-ef6c-4bca-be7f-5a229b84f532",
   "metadata": {},
   "outputs": [
    {
     "name": "stdout",
     "output_type": "stream",
     "text": [
      "API response code: 200\n"
     ]
    }
   ],
   "source": [
    "simulation_data, meta_data = synthera.simulations.fixed_income.simulation_past_date(api_key=123, request=request)"
   ]
  },
  {
   "cell_type": "code",
   "execution_count": 6,
   "id": "4edcfae0-1f71-4c6d-9cf0-7003cb29bea2",
   "metadata": {},
   "outputs": [
    {
     "data": {
      "text/plain": [
       "(16, 2, 120, 48)"
      ]
     },
     "execution_count": 6,
     "metadata": {},
     "output_type": "execute_result"
    }
   ],
   "source": [
    "simulation_data.get('numpy_array').shape"
   ]
  },
  {
   "cell_type": "code",
   "execution_count": 7,
   "id": "0ff64527-95f4-4edd-89a9-7e6b2264914c",
   "metadata": {},
   "outputs": [
    {
     "data": {
      "text/plain": [
       "dict_keys(['USD_Z0', 'EUR_Z0', 'numpy_array', 'column_names'])"
      ]
     },
     "execution_count": 7,
     "metadata": {},
     "output_type": "execute_result"
    }
   ],
   "source": [
    "simulation_data.keys()"
   ]
  },
  {
   "cell_type": "code",
   "execution_count": 9,
   "id": "1b82e6b6-eeb7-441a-b7ab-91816e62870d",
   "metadata": {},
   "outputs": [
    {
     "data": {
      "text/plain": [
       "['IDX',\n",
       " 'SAMPLE',\n",
       " 'FX-SPOT',\n",
       " 'FX_FW-0.5',\n",
       " 'FX_FW-1.0',\n",
       " 'FX_FW-1.5',\n",
       " 'FX_FW-2.0',\n",
       " 'FX_FW-2.5',\n",
       " 'FX_FW-3.0',\n",
       " 'FX_FW-3.5',\n",
       " 'FX_FW-4.0',\n",
       " 'FX_FW-4.5',\n",
       " 'FX_FW-5.0',\n",
       " 'FX_FW-6.0',\n",
       " 'FX_FW-7.0',\n",
       " 'FX_FW-8.0',\n",
       " 'FX_FW-9.0',\n",
       " 'FX_FW-10.0',\n",
       " 'FX_FW-12.0',\n",
       " 'FX_FW-14.0',\n",
       " 'FX_FW-16.0',\n",
       " 'FX_FW-18.0',\n",
       " 'FX_FW-20.0',\n",
       " 'FX_FW-22.0',\n",
       " 'FX_FW-24.0',\n",
       " 'YC-0.5',\n",
       " 'YC-1.0',\n",
       " 'YC-1.5',\n",
       " 'YC-2.0',\n",
       " 'YC-2.5',\n",
       " 'YC-3.0',\n",
       " 'YC-3.5',\n",
       " 'YC-4.0',\n",
       " 'YC-4.5',\n",
       " 'YC-5.0',\n",
       " 'YC-6.0',\n",
       " 'YC-7.0',\n",
       " 'YC-8.0',\n",
       " 'YC-9.0',\n",
       " 'YC-10.0',\n",
       " 'YC-12.0',\n",
       " 'YC-14.0',\n",
       " 'YC-16.0',\n",
       " 'YC-18.0',\n",
       " 'YC-20.0',\n",
       " 'YC-22.0',\n",
       " 'YC-24.0',\n",
       " 'date']"
      ]
     },
     "execution_count": 9,
     "metadata": {},
     "output_type": "execute_result"
    }
   ],
   "source": [
    "simulation_data.get('column_names')"
   ]
  },
  {
   "cell_type": "code",
   "execution_count": null,
   "id": "3df24845-e9bc-4748-b7b1-906f5f216f67",
   "metadata": {},
   "outputs": [],
   "source": []
  },
  {
   "cell_type": "code",
   "execution_count": null,
   "id": "cb8a1bd2-caf3-46b3-8fc6-64940ede7c3e",
   "metadata": {},
   "outputs": [],
   "source": []
  },
  {
   "cell_type": "code",
   "execution_count": null,
   "id": "ae5e3dea-1a76-417b-b4e7-aef9b1ed085d",
   "metadata": {},
   "outputs": [],
   "source": []
  }
 ],
 "metadata": {
  "kernelspec": {
   "display_name": "env-syntheticdata",
   "language": "python",
   "name": "env-syntheticdata"
  },
  "language_info": {
   "codemirror_mode": {
    "name": "ipython",
    "version": 3
   },
   "file_extension": ".py",
   "mimetype": "text/x-python",
   "name": "python",
   "nbconvert_exporter": "python",
   "pygments_lexer": "ipython3",
   "version": "3.11.5"
  }
 },
 "nbformat": 4,
 "nbformat_minor": 5
}
